{
 "cells": [
  {
   "cell_type": "markdown",
   "metadata": {},
   "source": [
    "Find Optimal Portfolio Weighting of 2 Assets"
   ]
  },
  {
   "cell_type": "code",
   "execution_count": 1,
   "metadata": {},
   "outputs": [],
   "source": [
    "import matplotlib.pyplot as plt"
   ]
  },
  {
   "cell_type": "code",
   "execution_count": 2,
   "metadata": {},
   "outputs": [],
   "source": [
    "import pandas as pd\n",
    "import numpy as np\n",
    "\n",
    "expected_returns = [0.15, 0.08]\n",
    "stds = [0.22, 0.28]\n",
    "weights = [0.6, 0.4]\n",
    "p = -0.2\n",
    "rf = 0.03\n",
    "\n",
    "e1 = expected_returns[0]\n",
    "e2 = expected_returns[1]\n",
    "w1 = weights[0]\n",
    "w2 = weights[1]\n",
    "s1 = stds[0]\n",
    "s2 = stds[1]"
   ]
  },
  {
   "cell_type": "code",
   "execution_count": 3,
   "metadata": {},
   "outputs": [],
   "source": [
    "def portfolio_expected_return(e1, e2, w1, w2):\n",
    "    return e1 * w1 + e2 * w2\n",
    "\n",
    "# Simple 2 Assets Version\n",
    "def portfolio_standard_deviation(w1, w2, s1, s2, p):\n",
    "    return np.sqrt(w1**2 * s1**2 + w2**2 * s2**2 + 2*w1*w2*s1*s2*p)"
   ]
  },
  {
   "cell_type": "code",
   "execution_count": 4,
   "metadata": {},
   "outputs": [
    {
     "data": {
      "text/plain": [
       "0.122"
      ]
     },
     "execution_count": 4,
     "metadata": {},
     "output_type": "execute_result"
    }
   ],
   "source": [
    "portfolio_expected_return(e1, e2, w1, w2)"
   ]
  },
  {
   "cell_type": "code",
   "execution_count": 5,
   "metadata": {},
   "outputs": [
    {
     "data": {
      "text/plain": [
       "0.15509480971328474"
      ]
     },
     "execution_count": 5,
     "metadata": {},
     "output_type": "execute_result"
    }
   ],
   "source": [
    "w1 = weights[0]\n",
    "w2 = weights[1]\n",
    "s1 = stds[0]\n",
    "s2 = stds[1]\n",
    "\n",
    "portfolio_standard_deviation(w1, w2, s1, s2, p)"
   ]
  },
  {
   "cell_type": "code",
   "execution_count": 6,
   "metadata": {},
   "outputs": [
    {
     "data": {
      "text/plain": [
       "(0.72, 0.28)"
      ]
     },
     "execution_count": 6,
     "metadata": {},
     "output_type": "execute_result"
    }
   ],
   "source": [
    "w_a = np.arange(0,100)/100\n",
    "w_b = 1 - w_a\n",
    "\n",
    "e_p = np.array([ portfolio_expected_return(e1,e2,a,b) for a,b in zip(w_a, w_b)])\n",
    "s_p = np.array([ portfolio_standard_deviation(a,b,s1,s2,p) for a,b in zip(w_a, w_b)])\n",
    "sharpe = (e_p - rf)/s_p\n",
    "max_sharpe = np.max(sharpe)\n",
    "max_sharpe_index = np.argmax(sharpe)\n",
    "\n",
    "def optimal_portfolio_weights(w_a, w_b, max_sharpe_index):\n",
    "    return w_a[max_sharpe_index], w_b[max_sharpe_index]\n",
    "\n",
    "optimal_portfolio_weights(w_a, w_b, max_sharpe_index)\n"
   ]
  },
  {
   "cell_type": "markdown",
   "metadata": {},
   "source": [
    "Find Optimal Portfolio Weighting of 3 Assets"
   ]
  },
  {
   "cell_type": "code",
   "execution_count": 7,
   "metadata": {},
   "outputs": [],
   "source": [
    "expected_returns = [0.15, 0.08, 0.19]\n",
    "stds = [0.22, 0.28, 0.37]\n",
    "weights = [0.5, 0.2, 0.3]\n",
    "corr_list = [0.1, -0.3, 0.2]\n",
    "rf = 0.03\n",
    "\n",
    "e1 = expected_returns[0]\n",
    "e2 = expected_returns[1]\n",
    "e3 = expected_returns[2]\n",
    "w1 = weights[0]\n",
    "w2 = weights[1]\n",
    "w3 = weights[2]\n",
    "s1 = stds[0]\n",
    "s2 = stds[1]\n",
    "s3 = stds[2]\n",
    "p12 = corr_list[0]\n",
    "p23 = corr_list[1]\n",
    "p31 = corr_list[2]"
   ]
  },
  {
   "cell_type": "code",
   "execution_count": 8,
   "metadata": {},
   "outputs": [],
   "source": [
    "def portfolio_expected_return(e1, e2, e3, w1, w2, w3):\n",
    "    return e1 * w1 + e2 * w2 + e3 * w3\n",
    "\n",
    "# Simple 3 Assets Version\n",
    "def portfolio_standard_deviation(w1, w2, w3, s1, s2, s3, p12, p23, p31):\n",
    "    return np.sqrt((w1**2 * s1**2) + (w2**2 * s2**2) + (w3**2 * s3**2) + 2*w1*w2*s1*s2*p12 + 2*w2*w3*s2*s3*p23 + 2*w3*w1*s3*s1*p31)"
   ]
  },
  {
   "cell_type": "code",
   "execution_count": 9,
   "metadata": {},
   "outputs": [
    {
     "data": {
      "text/plain": [
       "0.148"
      ]
     },
     "execution_count": 9,
     "metadata": {},
     "output_type": "execute_result"
    }
   ],
   "source": [
    "portfolio_expected_return(e1, e2, e3, w1, w2, w3)"
   ]
  },
  {
   "cell_type": "code",
   "execution_count": 10,
   "metadata": {},
   "outputs": [
    {
     "data": {
      "text/plain": [
       "0.17304161349224642"
      ]
     },
     "execution_count": 10,
     "metadata": {},
     "output_type": "execute_result"
    }
   ],
   "source": [
    "portfolio_standard_deviation(w1, w2, w3, s1, s2, s3, p12, p23, p31)"
   ]
  },
  {
   "cell_type": "code",
   "execution_count": 11,
   "metadata": {},
   "outputs": [
    {
     "data": {
      "text/plain": [
       "(0.49, 0.23, 0.28)"
      ]
     },
     "execution_count": 11,
     "metadata": {},
     "output_type": "execute_result"
    }
   ],
   "source": [
    "weight_combinations = []\n",
    "for a in np.arange(0,100):\n",
    "        for b in np.arange(0,100):\n",
    "                for c in np.arange(0,100):\n",
    "                    if a+b+c == 100:\n",
    "                        weight_combinations.append((a/100,b/100,c/100))\n",
    "\n",
    "\n",
    "e_p = np.array([ portfolio_expected_return(e1, e2, e3, w[0], w[1], w[2]) for w in weight_combinations ])\n",
    "s_p = np.array([ portfolio_standard_deviation( w[0], w[1], w[2], s1, s2, s3, p12, p23, p31) for w in weight_combinations ])\n",
    "\n",
    "sharpe = (e_p - rf)/s_p\n",
    "max_sharpe = np.max(sharpe)\n",
    "max_sharpe_index = np.argmax(sharpe)\n",
    "\n",
    "def optimal_portfolio_weights(weight_combinations, max_sharpe_index):\n",
    "    return weight_combinations[max_sharpe_index]\n",
    "\n",
    "optimal_portfolio_weights(weight_combinations, max_sharpe_index)\n",
    "\n"
   ]
  },
  {
   "cell_type": "markdown",
   "metadata": {},
   "source": [
    "Find Optimal Portfolio Weighting of 3 Assets using Covariance Matrix"
   ]
  },
  {
   "cell_type": "code",
   "execution_count": 12,
   "metadata": {},
   "outputs": [],
   "source": [
    "expected_returns = [0.15, 0.08, 0.19]\n",
    "stds = [0.22, 0.28, 0.37]\n",
    "weights = [0.5, 0.2, 0.3]\n",
    "corr_list = [0.1, -0.3, 0.2]\n",
    "rf = 0.03\n",
    "cov_matrix = [[stds[0]**2, stds[0]*stds[1]*corr_list[0], stds[0]*stds[2]*corr_list[2]],\n",
    "              [stds[1]*stds[0]*corr_list[0] ,stds[1]**2, stds[1]*stds[2]*corr_list[1]],\n",
    "              [stds[2]*stds[0]*corr_list[2] ,stds[2]*stds[1]*corr_list[1] ,stds[2]**2]]"
   ]
  },
  {
   "cell_type": "code",
   "execution_count": null,
   "metadata": {},
   "outputs": [],
   "source": []
  },
  {
   "cell_type": "code",
   "execution_count": 13,
   "metadata": {},
   "outputs": [],
   "source": [
    "def portfolio_expected_return(expected_returns, weights):\n",
    "    expected_returns = np.array(expected_returns)\n",
    "    weights = np.array(weights)\n",
    "    return np.dot(np.array(expected_returns), np.array(weights))\n",
    "\n",
    "def portfolio_standard_deviation(cov_matrix ,weights):\n",
    "    cov_matrix = np.array(cov_matrix)\n",
    "    weights = np.array(weights)\n",
    "    return  np.sqrt(np.dot(weights.T , np.dot(cov_matrix  , weights)))\n",
    "\n",
    "    \n"
   ]
  },
  {
   "cell_type": "code",
   "execution_count": 14,
   "metadata": {},
   "outputs": [
    {
     "data": {
      "text/plain": [
       "0.148"
      ]
     },
     "execution_count": 14,
     "metadata": {},
     "output_type": "execute_result"
    }
   ],
   "source": [
    "portfolio_expected_return(expected_returns, weights)"
   ]
  },
  {
   "cell_type": "code",
   "execution_count": 15,
   "metadata": {},
   "outputs": [
    {
     "data": {
      "text/plain": [
       "0.17304161349224642"
      ]
     },
     "execution_count": 15,
     "metadata": {},
     "output_type": "execute_result"
    }
   ],
   "source": [
    "portfolio_standard_deviation(cov_matrix ,weights)"
   ]
  },
  {
   "cell_type": "code",
   "execution_count": 16,
   "metadata": {},
   "outputs": [
    {
     "data": {
      "text/plain": [
       "(0.49, 0.23, 0.28)"
      ]
     },
     "execution_count": 16,
     "metadata": {},
     "output_type": "execute_result"
    }
   ],
   "source": [
    "weight_combinations = []\n",
    "for a in np.arange(0,100):\n",
    "        for b in np.arange(0,100):\n",
    "                for c in np.arange(0,100):\n",
    "                    if a+b+c == 100:\n",
    "                        weight_combinations.append((a/100,b/100,c/100))\n",
    "\n",
    "\n",
    "e_p = np.array([ portfolio_expected_return(expected_returns, w) for w in weight_combinations ])\n",
    "s_p = np.array([ portfolio_standard_deviation(cov_matrix ,w) for w in weight_combinations ])\n",
    "\n",
    "sharpe = (e_p - rf)/s_p\n",
    "max_sharpe = np.max(sharpe)\n",
    "max_sharpe_index = np.argmax(sharpe)\n",
    "\n",
    "def optimal_portfolio_weights(weight_combinations, max_sharpe_index):\n",
    "    return weight_combinations[max_sharpe_index]\n",
    "\n",
    "optimal_portfolio_weights(weight_combinations, max_sharpe_index)\n"
   ]
  },
  {
   "cell_type": "markdown",
   "metadata": {},
   "source": [
    "Find Optimal Portfolio Weighting of n Assets, by monte carlo simulation"
   ]
  },
  {
   "cell_type": "code",
   "execution_count": 17,
   "metadata": {},
   "outputs": [
    {
     "name": "stdout",
     "output_type": "stream",
     "text": [
      "[*********************100%***********************]  10 of 10 completed\n"
     ]
    }
   ],
   "source": [
    "import yfinance as yf\n",
    "tickers = ['QQQ', 'IEF', 'GLD', 'USO', 'UUP', 'VGK', 'FXI', 'VNQ', 'SLV', 'EEM']\n",
    "data = yf.download(tickers, start=\"2010-01-01\",\n",
    "                    end=\"2022-09-27\", group_by='tickers')\n",
    "\n",
    "data.columns = data.columns.to_flat_index()\n",
    "data = data[[col for col in data.columns if 'Adj Close' in col]]\n",
    "data.columns = [str(col).split(\",\")[0].replace(\"(\",\"\") for col in data.columns]\n",
    "returns = data.pct_change()\n",
    "returns = returns.dropna(axis=0)\n",
    "\n",
    "cov_matrix = returns.cov().to_numpy() * 252\n",
    "expected_returns_daily = returns.mean().to_numpy()\n",
    "expected_returns = (expected_returns_daily+1)**252 - 1"
   ]
  },
  {
   "cell_type": "code",
   "execution_count": 18,
   "metadata": {},
   "outputs": [],
   "source": [
    "def portfolio_expected_return(expected_returns, weights):\n",
    "    expected_returns = np.array(expected_returns)\n",
    "    weights = np.array(weights)\n",
    "    return np.dot(expected_returns, weights)\n",
    "\n",
    "def portfolio_standard_deviation(cov_matrix ,weights):\n",
    "    cov_matrix = np.array(cov_matrix)\n",
    "    weights = np.array(weights)\n",
    "    return  np.sqrt(np.dot(weights.T , np.dot(cov_matrix  , weights)))\n",
    "\n",
    "def sharpe_ratio(expected_returns, cov_matrix, weights):\n",
    "    e_p = portfolio_expected_return(expected_returns, weights)\n",
    "    s_p = portfolio_standard_deviation(cov_matrix ,weights)\n",
    "    return ((e_p - rf)/s_p, e_p, s_p)\n",
    "\n",
    "rf = 0.03"
   ]
  },
  {
   "cell_type": "code",
   "execution_count": 19,
   "metadata": {},
   "outputs": [
    {
     "name": "stdout",
     "output_type": "stream",
     "text": [
      "0.9071866403446465\n",
      "[0.868222784455024, 0.027675402257367088, 0.044125070453789106, 0.3302095157340088, 0.08755801429113796, 0.6859080874745227, 0.06706294363080945, 0.10149589238560719, 0.011083809519327303, 0.9929741413263997]\n"
     ]
    }
   ],
   "source": [
    "iteration = 1000000\n",
    "opt_sharpe = 0\n",
    "opt_weights = np.zeros(len(data.columns))\n",
    "e_p_list = []\n",
    "s_p_list = []\n",
    "opt_e_p = []\n",
    "opt_s_p = []\n",
    "\n",
    "for i in range(iteration):\n",
    "    weights = list(np.random.rand(len(data.columns)))\n",
    "    sharpe, e_p, s_p = sharpe_ratio(expected_returns, cov_matrix, weights)\n",
    "    if sharpe > opt_sharpe*0.7:\n",
    "        e_p_list.append(e_p)\n",
    "        s_p_list.append(s_p)\n",
    "        if sharpe > opt_sharpe:\n",
    "            opt_sharpe = sharpe\n",
    "            opt_weights = weights\n",
    "            opt_e_p = [e_p]\n",
    "            opt_s_p = [s_p]\n",
    "    \n",
    "print(opt_sharpe)\n",
    "print(opt_weights)"
   ]
  },
  {
   "cell_type": "code",
   "execution_count": 20,
   "metadata": {},
   "outputs": [
    {
     "data": {
      "text/plain": [
       "<matplotlib.lines.Line2D at 0x24630f05d48>"
      ]
     },
     "execution_count": 20,
     "metadata": {},
     "output_type": "execute_result"
    },
    {
     "data": {
      "image/png": "[encoded data removed]",
      "text/plain": [
       "<Figure size 640x480 with 1 Axes>"
      ]
     },
     "metadata": {},
     "output_type": "display_data"
    }
   ],
   "source": [
    "fig, ax = plt.subplots(1,1)\n",
    "ax.scatter(x=s_p_list, y=e_p_list)\n",
    "ax.scatter(x=opt_s_p, y=opt_e_p, label='Optimal Allocation')\n",
    "x = np.linspace(min(s_p_list)-0.2, max(s_p_list), 100)\n",
    "y = rf + opt_sharpe*x\n",
    "ax.plot(x,y, color=\"r\", label=\"CML\")\n",
    "\n",
    "ax.set_title(\"Efficient Frontier\")\n",
    "ax.set_xlabel(\"Portfolio standard deviation\")\n",
    "ax.set_ylabel(\"Portfolio expected return\")\n",
    "ax.set_ylim([-0.2, 1])\n",
    "ax.set_xlim([-0.2, 1])\n",
    "ax.legend()\n",
    "ax.grid(True, which='both')\n",
    "ax.axhline(y=0, color='k')\n",
    "ax.axvline(x=0, color='k')"
   ]
  },
  {
   "cell_type": "code",
   "execution_count": null,
   "metadata": {},
   "outputs": [],
   "source": []
  },
  {
   "cell_type": "code",
   "execution_count": null,
   "metadata": {},
   "outputs": [],
   "source": []
  }
 ],
 "metadata": {
  "kernelspec": {
   "display_name": "Python 3.7.8 64-bit",
   "language": "python",
   "name": "python3"
  },
  "language_info": {
   "codemirror_mode": {
    "name": "ipython",
    "version": 3
   },
   "file_extension": ".py",
   "mimetype": "text/x-python",
   "name": "python",
   "nbconvert_exporter": "python",
   "pygments_lexer": "ipython3",
   "version": "3.7.8"
  },
  "orig_nbformat": 4,
  "vscode": {
   "interpreter": {
    "hash": "545068057c2e3334f9781ee782fadf1f25510c5582a26a04e8757cb25567bc10"
   }
  }
 },
 "nbformat": 4,
 "nbformat_minor": 2
}
